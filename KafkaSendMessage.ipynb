{
 "cells": [
  {
   "cell_type": "markdown",
   "metadata": {},
   "source": [
    "# Pre-requisite to run this notebook: Start zookeeper and Kafka Server.\n",
    "ie., for windows - zookeeper-server-start.bat and kafka-server-start.bat .\n",
    "\n",
    "We have used Kafka 2.12-2.1.1 .\n",
    "\n",
    "\n",
    "# This notebook does following: \n",
    "# 1) Create a Kafka Topic\n",
    "# 2) Create a Kafka Producer\n",
    "# 3) Read messages from user as console input\n",
    "# 4) Send messages to Topic using Producer"
   ]
  },
  {
   "cell_type": "markdown",
   "metadata": {},
   "source": [
    "# We have used confluent libraries here.\n",
    "\n",
    "reference: https://github.com/confluentinc/confluent-kafka-python/blob/master/examples/"
   ]
  },
  {
   "cell_type": "markdown",
   "metadata": {},
   "source": [
    "# To install python kafka plugin: \n",
    "pip install kafka-python<br/>\n",
    "pip install confluent_kafka "
   ]
  },
  {
   "cell_type": "code",
   "execution_count": 1,
   "metadata": {},
   "outputs": [],
   "source": [
    "#pip install kafka-python\n",
    "#from kafka import KafkaProducer, TopicPartition\n",
    "from confluent_kafka.admin import AdminClient, NewTopic, NewPartitions, ConfigResource, ConfigSource\n",
    "from confluent_kafka import Producer\n",
    "\n",
    "import sys"
   ]
  },
  {
   "cell_type": "markdown",
   "metadata": {},
   "source": [
    "# Kafka runs on local host.\n"
   ]
  },
  {
   "cell_type": "code",
   "execution_count": 2,
   "metadata": {},
   "outputs": [],
   "source": [
    "conf = {'bootstrap.servers': 'localhost'}\n",
    "topic_name=\"topic_events\""
   ]
  },
  {
   "cell_type": "markdown",
   "metadata": {},
   "source": [
    "# Create Topic if it doesn't exist"
   ]
  },
  {
   "cell_type": "code",
   "execution_count": 3,
   "metadata": {},
   "outputs": [
    {
     "name": "stdout",
     "output_type": "stream",
     "text": [
      "Topic  topic_events  already exists\n"
     ]
    }
   ],
   "source": [
    "# Create Admin client\n",
    "admin_client = AdminClient(conf)\n",
    "    \n",
    "def is_topic(topicname_in):\n",
    "    tops=admin_client.list_topics()\n",
    "    if tops.topics.get(topicname_in) is None:\n",
    "        return False\n",
    "    return True\n",
    "\n",
    "def create_topic(topicname_in):\n",
    "    if is_topic(topicname_in):\n",
    "        print(\"Topic \",topicname_in,\" already exists\")\n",
    "        return\n",
    "    \n",
    "    new_topics = [NewTopic(topicname_in, num_partitions=3, replication_factor=1)]\n",
    "    \n",
    "    tops=admin_client.list_topics()\n",
    "    print(tops)\n",
    "    # Call create_topics to asynchronously create topics, a dict\n",
    "    # of <topic,future> is returned.\n",
    "    fs = admin_client.create_topics(new_topics)\n",
    "\n",
    "    # Wait for operation to finish.\n",
    "    # Timeouts are preferably controlled by passing request_timeout=15.0\n",
    "    # to the create_topics() call.\n",
    "    # All futures will finish at the same time.\n",
    "    for topic, f in fs.items():\n",
    "        try:\n",
    "            f.result()  # The result itself is None\n",
    "            print(\"Topic {} created\".format(topic))\n",
    "        except Exception as e:\n",
    "            print(\"Failed to create topic {}: {}\".format(topic, e))\n",
    "\n",
    "create_topic(topic_name)\n"
   ]
  },
  {
   "cell_type": "markdown",
   "metadata": {},
   "source": [
    "# Create Producer Instance "
   ]
  },
  {
   "cell_type": "code",
   "execution_count": 4,
   "metadata": {},
   "outputs": [],
   "source": [
    "# Create Producer instance\n",
    "producer = Producer(**conf)"
   ]
  },
  {
   "cell_type": "markdown",
   "metadata": {},
   "source": [
    "# Optional per-message delivery callback (triggered by poll() or flush())\n"
   ]
  },
  {
   "cell_type": "code",
   "execution_count": 5,
   "metadata": {},
   "outputs": [],
   "source": [
    "\n",
    "# when a message has been successfully delivered or permanently\n",
    "# failed delivery (after retries).\n",
    "def delivery_callback(err, msg):\n",
    "    if err:\n",
    "        print('Message failed delivery: ', err)\n",
    "    else:\n",
    "        print('Message delivered to topic={} partition={} offset={}'.format(msg.topic(), msg.partition(), msg.offset()))"
   ]
  },
  {
   "cell_type": "markdown",
   "metadata": {},
   "source": [
    "# Read user input from console and send to Topic.\n",
    "# enter 'q' to Quit."
   ]
  },
  {
   "cell_type": "code",
   "execution_count": null,
   "metadata": {},
   "outputs": [
    {
     "name": "stdout",
     "output_type": "stream",
     "text": [
      "a1\n",
      "Message delivered to topic=topic_events partition=1 offset=24\n",
      "b1\n",
      "Message delivered to topic=topic_events partition=2 offset=24\n",
      "c1\n",
      "Message delivered to topic=topic_events partition=1 offset=25\n",
      "d1\n",
      "Message delivered to topic=topic_events partition=0 offset=24\n",
      "e1\n",
      "Message delivered to topic=topic_events partition=0 offset=25\n",
      "f1\n",
      "Message delivered to topic=topic_events partition=1 offset=26\n",
      "g1\n",
      "Message delivered to topic=topic_events partition=2 offset=25\n",
      "h1\n",
      "Message delivered to topic=topic_events partition=2 offset=26\n",
      "j1\n",
      "Message delivered to topic=topic_events partition=2 offset=27\n",
      "k1\n",
      "Message delivered to topic=topic_events partition=1 offset=27\n",
      "l1\n",
      "Message delivered to topic=topic_events partition=0 offset=26\n",
      "m1\n",
      "Message delivered to topic=topic_events partition=1 offset=28\n",
      "n1\n",
      "Message delivered to topic=topic_events partition=2 offset=28\n",
      "o1\n",
      "Message delivered to topic=topic_events partition=1 offset=29\n",
      "p1\n",
      "Message delivered to topic=topic_events partition=2 offset=29\n"
     ]
    }
   ],
   "source": [
    "# Read lines from stdin, produce/push each line to Kafka\n",
    "while (True):\n",
    "    line=input()\n",
    "    if line == \"q\":\n",
    "        print(\"Quitting\")\n",
    "        break\n",
    "    try:\n",
    "        # Push line (without newline)\n",
    "        producer.produce(topic_name, line.rstrip(), callback=delivery_callback)\n",
    "\n",
    "    except BufferError:\n",
    "        print(\"Local producer queue is full, {} messages awaiting delivery: try again\".format(len(producer)))\n",
    "    producer.flush()"
   ]
  }
 ],
 "metadata": {
  "kernelspec": {
   "display_name": "Python 3",
   "language": "python",
   "name": "python3"
  },
  "language_info": {
   "codemirror_mode": {
    "name": "ipython",
    "version": 3
   },
   "file_extension": ".py",
   "mimetype": "text/x-python",
   "name": "python",
   "nbconvert_exporter": "python",
   "pygments_lexer": "ipython3",
   "version": "3.5.2"
  }
 },
 "nbformat": 4,
 "nbformat_minor": 2
}
